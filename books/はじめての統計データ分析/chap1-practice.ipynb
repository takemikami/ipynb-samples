{
 "cells": [
  {
   "cell_type": "markdown",
   "metadata": {
    "collapsed": true,
    "pycharm": {
     "name": "#%% md\n"
    }
   },
   "source": [
    "# 1章 データの整理とベイズの定理"
   ]
  },
  {
   "cell_type": "code",
   "execution_count": 63,
   "outputs": [],
   "source": [
    "import numpy as np\n",
    "import pandas as pd\n",
    "from scipy import stats\n",
    "from matplotlib import pyplot as plt"
   ],
   "metadata": {
    "collapsed": false,
    "pycharm": {
     "name": "#%%\n"
    }
   }
  },
  {
   "cell_type": "markdown",
   "source": [
    "1.7 演習問題"
   ],
   "metadata": {
    "collapsed": false,
    "pycharm": {
     "name": "#%% md\n"
    }
   }
  },
  {
   "cell_type": "code",
   "execution_count": 41,
   "outputs": [
    {
     "name": "stdout",
     "output_type": "stream",
     "text": [
      "(35.0, 40.0]      32\n",
      "(40.0, 45.0]      26\n",
      "(45.0, 50.0]      15\n",
      "(30.0, 35.0]      15\n",
      "(50.0, 55.0]       8\n",
      "(25.0, 30.0]       3\n",
      "(19.999, 25.0]     1\n",
      "(55.0, 60.0]       0\n",
      "Name: score, dtype: int64\n"
     ]
    }
   ],
   "source": [
    "data = [\n",
    "    36, 38, 51, 40, 41, 52, 43, 31, 35, 37, 49, 43, 43, 41, 36, 53, 43, 26, 45, 37, 33, 38,\n",
    "    33, 35, 36, 28, 46, 41, 32, 49, 43, 38, 46, 46, 46, 45, 44, 40, 38, 37, 35, 39, 31, 55,\n",
    "    48, 32, 37, 37, 45, 39, 42, 40, 40, 50, 38, 51, 29, 44, 41, 42, 43, 36, 38, 33, 32, 42,\n",
    "    43, 40, 46, 54, 37, 24, 47, 35, 35, 47, 38, 31, 41, 39, 40, 43, 37, 45, 38, 42, 48, 43,\n",
    "    38, 48, 47, 44, 42, 36, 50, 36, 55, 51, 38, 33]\n",
    "df = pd.DataFrame({'score': data})\n",
    "\n",
    "# 1) 度数分布\n",
    "value_counts = df['score'].value_counts(bins=range(20, 60 + 5, 5))\n",
    "print(value_counts)"
   ],
   "metadata": {
    "collapsed": false,
    "pycharm": {
     "name": "#%%\n"
    }
   }
  },
  {
   "cell_type": "code",
   "execution_count": 42,
   "outputs": [
    {
     "data": {
      "text/plain": "<Figure size 432x288 with 3 Axes>",
      "image/png": "[encoded data removed]"
     },
     "metadata": {
      "needs_background": "light"
     },
     "output_type": "display_data"
    }
   ],
   "source": [
    "# 2) ヒストグラム\n",
    "\n",
    "binwidth_list = [2, 5, 10]\n",
    "fig, ax = plt.subplots(nrows = len(binwidth_list))\n",
    "for idx, binwidth in enumerate(binwidth_list):\n",
    "    bins = range(20, 60 + binwidth, binwidth)\n",
    "    df.hist(alpha=0.5, bins=bins, ax=ax[idx])"
   ],
   "metadata": {
    "collapsed": false,
    "pycharm": {
     "name": "#%%\n"
    }
   }
  },
  {
   "cell_type": "code",
   "execution_count": 45,
   "outputs": [
    {
     "name": "stdout",
     "output_type": "stream",
     "text": [
      "{'mean': 40.64, 'var': 40.9104, 'std': 6.396123826193486}\n"
     ]
    }
   ],
   "source": [
    "# 3) 標本平均, 標本分散, 標本標準偏差\n",
    "\n",
    "stats_vals = {\n",
    "    'mean': np.mean(df['score']),\n",
    "    'var': np.var(df['score']),\n",
    "    'std': np.std(df['score'])}\n",
    "print(stats_vals)"
   ],
   "metadata": {
    "collapsed": false,
    "pycharm": {
     "name": "#%%\n"
    }
   }
  },
  {
   "cell_type": "code",
   "execution_count": 61,
   "outputs": [
    {
     "name": "stdout",
     "output_type": "stream",
     "text": [
      "{'ascending_head': [24, 26, 28, 29, 31], 'decending_head': [55, 55, 54, 53, 52], 'max': 55, 'min': 24}\n"
     ]
    }
   ],
   "source": [
    "# 4) ソート・最大値・最小値\n",
    "\n",
    "sorted_vals = {\n",
    "    'ascending_head': sorted(df['score'])[:5],\n",
    "    'decending_head': sorted(df['score'])[::-1][:5],\n",
    "    'max': max(df['score']),\n",
    "    'min': min(df['score'])}\n",
    "print(sorted_vals)"
   ],
   "metadata": {
    "collapsed": false,
    "pycharm": {
     "name": "#%%\n"
    }
   }
  },
  {
   "cell_type": "code",
   "execution_count": 74,
   "outputs": [
    {
     "name": "stdout",
     "output_type": "stream",
     "text": [
      "{'median': 40.0, 'mode': 38}\n"
     ]
    }
   ],
   "source": [
    "# 5) 中央値・最頻値\n",
    "\n",
    "stats_vals = {\n",
    "    'median': np.median(df['score']),\n",
    "    'mode': df['score'].value_counts().keys()[0]\n",
    "}\n",
    "print(stats_vals)"
   ],
   "metadata": {
    "collapsed": false,
    "pycharm": {
     "name": "#%%\n"
    }
   }
  },
  {
   "cell_type": "code",
   "execution_count": 95,
   "outputs": [
    {
     "data": {
      "text/plain": "array([<matplotlib.axes._subplots.AxesSubplot object at 0x7fea5fd02c50>],\n      dtype=object)"
     },
     "execution_count": 95,
     "metadata": {},
     "output_type": "execute_result"
    },
    {
     "data": {
      "text/plain": "<Figure size 432x288 with 2 Axes>",
      "image/png": "[encoded data removed]"
     },
     "metadata": {
      "needs_background": "light"
     },
     "output_type": "display_data"
    }
   ],
   "source": [
    "# 6) 標本平均・標本標準偏差を正規分布の母数として確率分布を見る\n",
    "\n",
    "x = np.arange(0,100,0.01)\n",
    "y = stats.norm.pdf(x, np.mean(df['score']), np.std(df['score']))\n",
    "\n",
    "fig, ax = plt.subplots(nrows = 2)\n",
    "\n",
    "# 正規分布のプロット\n",
    "ax[0].plot(x,y, color='r', alpha=0.5)\n",
    "ax[0].set_xlim(0,100)\n",
    "ax[0].grid()\n",
    "\n",
    "# 標本のヒストグラム\n",
    "bins = range(0, 100, 5)\n",
    "df.hist(alpha=0.5, bins=bins, ax=ax[1])"
   ],
   "metadata": {
    "collapsed": false,
    "pycharm": {
     "name": "#%%\n"
    }
   }
  },
  {
   "cell_type": "code",
   "execution_count": 106,
   "outputs": [
    {
     "data": {
      "text/plain": "<Figure size 432x288 with 2 Axes>",
      "image/png": "[encoded data removed]"
     },
     "metadata": {
      "needs_background": "light"
     },
     "output_type": "display_data"
    }
   ],
   "source": [
    "samples = np.random.normal(np.mean(df['score']), np.std(df['score']), 10000)\n",
    "\n",
    "fig, ax = plt.subplots(nrows = 2)\n",
    "ax[0].hist(samples, bins=100)\n",
    "ax[0].set_xlim(0,100)\n",
    "ax[0].grid()\n",
    "\n",
    "ax[1].hist(samples, cumulative=True, bins=100)\n",
    "ax[1].set_xlim(0,100)\n",
    "ax[1].grid()"
   ],
   "metadata": {
    "collapsed": false,
    "pycharm": {
     "name": "#%%\n"
    }
   }
  }
 ],
 "metadata": {
  "kernelspec": {
   "display_name": "Python 3",
   "language": "python",
   "name": "python3"
  },
  "language_info": {
   "codemirror_mode": {
    "name": "ipython",
    "version": 2
   },
   "file_extension": ".py",
   "mimetype": "text/x-python",
   "name": "python",
   "nbconvert_exporter": "python",
   "pygments_lexer": "ipython2",
   "version": "2.7.6"
  }
 },
 "nbformat": 4,
 "nbformat_minor": 0
}